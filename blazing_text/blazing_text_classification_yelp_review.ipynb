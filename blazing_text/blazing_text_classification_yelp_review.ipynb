{
 "cells": [
  {
   "cell_type": "markdown",
   "metadata": {},
   "source": [
    "## Blazing Text Classification for Yelp"
   ]
  },
  {
   "cell_type": "markdown",
   "metadata": {},
   "source": [
    "### Import"
   ]
  },
  {
   "cell_type": "code",
   "execution_count": null,
   "metadata": {},
   "outputs": [],
   "source": [
    "import sagemaker\n",
    "from sagemaker import get_execution_role\n",
    "import json\n",
    "import boto3\n",
    "\n",
    "sess = sagemaker.Session()\n",
    "\n",
    "role = get_execution_role()\n",
    "print(role) # This is the role that SageMaker would use to leverage AWS resources (S3, CloudWatch) on your behalf\n",
    "\n",
    "bucket = sess.default_bucket() # Replace with your own bucket name if needed\n",
    "print(bucket)\n",
    "prefix = 'blazingtext_yelp_review/supervised' "
   ]
  },
  {
   "cell_type": "code",
   "execution_count": 4,
   "metadata": {},
   "outputs": [
    {
     "name": "stderr",
     "output_type": "stream",
     "text": [
      "[nltk_data] Downloading package punkt to /root/nltk_data...\n",
      "[nltk_data]   Package punkt is already up-to-date!\n"
     ]
    },
    {
     "data": {
      "text/plain": [
       "True"
      ]
     },
     "execution_count": 4,
     "metadata": {},
     "output_type": "execute_result"
    }
   ],
   "source": [
    "from random import shuffle\n",
    "import multiprocessing\n",
    "from multiprocessing import Pool\n",
    "import csv\n",
    "import nltk\n",
    "nltk.download('punkt')"
   ]
  },
  {
   "cell_type": "code",
   "execution_count": 5,
   "metadata": {},
   "outputs": [],
   "source": [
    "from sklearn.model_selection import train_test_split\n",
    "import pandas as pd"
   ]
  },
  {
   "cell_type": "code",
   "execution_count": 6,
   "metadata": {},
   "outputs": [
    {
     "name": "stdout",
     "output_type": "stream",
     "text": [
      "/root/fake_review_detection_modeling/yelp_review_blazing_text\n"
     ]
    }
   ],
   "source": [
    "!pwd"
   ]
  },
  {
   "cell_type": "code",
   "execution_count": 8,
   "metadata": {},
   "outputs": [],
   "source": [
    "yelp_review_pd = pd.read_excel('../data/Yelp Labelled Review Dataset with Sentiments and Features.xlsx')"
   ]
  },
  {
   "cell_type": "code",
   "execution_count": 9,
   "metadata": {},
   "outputs": [
    {
     "data": {
      "text/html": [
       "<div>\n",
       "<style scoped>\n",
       "    .dataframe tbody tr th:only-of-type {\n",
       "        vertical-align: middle;\n",
       "    }\n",
       "\n",
       "    .dataframe tbody tr th {\n",
       "        vertical-align: top;\n",
       "    }\n",
       "\n",
       "    .dataframe thead th {\n",
       "        text-align: right;\n",
       "    }\n",
       "</style>\n",
       "<table border=\"1\" class=\"dataframe\">\n",
       "  <thead>\n",
       "    <tr style=\"text-align: right;\">\n",
       "      <th></th>\n",
       "      <th>User_id</th>\n",
       "      <th>Product_id</th>\n",
       "      <th>Rating</th>\n",
       "      <th>Date</th>\n",
       "      <th>Review</th>\n",
       "      <th>Spam(1) and Not Spam(0)</th>\n",
       "      <th>Sentiment</th>\n",
       "      <th>Features</th>\n",
       "    </tr>\n",
       "  </thead>\n",
       "  <tbody>\n",
       "    <tr>\n",
       "      <th>0</th>\n",
       "      <td>923</td>\n",
       "      <td>0</td>\n",
       "      <td>3</td>\n",
       "      <td>2014-01-30</td>\n",
       "      <td>The food at snack is a selection of popular Gr...</td>\n",
       "      <td>1</td>\n",
       "      <td>Positive</td>\n",
       "      <td>['appetizer tray', 'greek salad', 'main courses']</td>\n",
       "    </tr>\n",
       "    <tr>\n",
       "      <th>1</th>\n",
       "      <td>924</td>\n",
       "      <td>0</td>\n",
       "      <td>3</td>\n",
       "      <td>2011-05-05</td>\n",
       "      <td>This little place in Soho is wonderful. I had ...</td>\n",
       "      <td>1</td>\n",
       "      <td>Positive</td>\n",
       "      <td>['little place', 'soho', 'lamb sandwich', 'soh...</td>\n",
       "    </tr>\n",
       "    <tr>\n",
       "      <th>2</th>\n",
       "      <td>925</td>\n",
       "      <td>0</td>\n",
       "      <td>4</td>\n",
       "      <td>2011-12-30</td>\n",
       "      <td>ordered lunch for 15 from Snack last Friday. Ã...</td>\n",
       "      <td>1</td>\n",
       "      <td>Positive</td>\n",
       "      <td>['snack', 'regular company lunch list']</td>\n",
       "    </tr>\n",
       "    <tr>\n",
       "      <th>3</th>\n",
       "      <td>926</td>\n",
       "      <td>0</td>\n",
       "      <td>4</td>\n",
       "      <td>2012-10-04</td>\n",
       "      <td>This is a beautiful quaint little restaurant o...</td>\n",
       "      <td>1</td>\n",
       "      <td>Positive</td>\n",
       "      <td>['beautiful quaint', 'pretty street', 'great p...</td>\n",
       "    </tr>\n",
       "    <tr>\n",
       "      <th>4</th>\n",
       "      <td>927</td>\n",
       "      <td>0</td>\n",
       "      <td>4</td>\n",
       "      <td>2014-02-06</td>\n",
       "      <td>Snack is great place for a Ã‚Â casual sit down...</td>\n",
       "      <td>1</td>\n",
       "      <td>Positive</td>\n",
       "      <td>['snack', 'great place', 'Ã¢ casual', 'cold wi...</td>\n",
       "    </tr>\n",
       "  </tbody>\n",
       "</table>\n",
       "</div>"
      ],
      "text/plain": [
       "   User_id  Product_id  Rating       Date  \\\n",
       "0      923           0       3 2014-01-30   \n",
       "1      924           0       3 2011-05-05   \n",
       "2      925           0       4 2011-12-30   \n",
       "3      926           0       4 2012-10-04   \n",
       "4      927           0       4 2014-02-06   \n",
       "\n",
       "                                              Review  Spam(1) and Not Spam(0)  \\\n",
       "0  The food at snack is a selection of popular Gr...                        1   \n",
       "1  This little place in Soho is wonderful. I had ...                        1   \n",
       "2  ordered lunch for 15 from Snack last Friday. Ã...                        1   \n",
       "3  This is a beautiful quaint little restaurant o...                        1   \n",
       "4  Snack is great place for a Ã‚Â casual sit down...                        1   \n",
       "\n",
       "  Sentiment                                           Features  \n",
       "0  Positive  ['appetizer tray', 'greek salad', 'main courses']  \n",
       "1  Positive  ['little place', 'soho', 'lamb sandwich', 'soh...  \n",
       "2  Positive            ['snack', 'regular company lunch list']  \n",
       "3  Positive  ['beautiful quaint', 'pretty street', 'great p...  \n",
       "4  Positive  ['snack', 'great place', 'Ã¢ casual', 'cold wi...  "
      ]
     },
     "execution_count": 9,
     "metadata": {},
     "output_type": "execute_result"
    }
   ],
   "source": [
    "yelp_review_pd.head()"
   ]
  },
  {
   "cell_type": "code",
   "execution_count": 10,
   "metadata": {},
   "outputs": [],
   "source": [
    "yelp_review_pd_clean = yelp_review_pd[['Review','Spam(1) and Not Spam(0)']]"
   ]
  },
  {
   "cell_type": "code",
   "execution_count": 11,
   "metadata": {},
   "outputs": [
    {
     "data": {
      "text/html": [
       "<div>\n",
       "<style scoped>\n",
       "    .dataframe tbody tr th:only-of-type {\n",
       "        vertical-align: middle;\n",
       "    }\n",
       "\n",
       "    .dataframe tbody tr th {\n",
       "        vertical-align: top;\n",
       "    }\n",
       "\n",
       "    .dataframe thead th {\n",
       "        text-align: right;\n",
       "    }\n",
       "</style>\n",
       "<table border=\"1\" class=\"dataframe\">\n",
       "  <thead>\n",
       "    <tr style=\"text-align: right;\">\n",
       "      <th></th>\n",
       "      <th>Review</th>\n",
       "      <th>Spam(1) and Not Spam(0)</th>\n",
       "    </tr>\n",
       "  </thead>\n",
       "  <tbody>\n",
       "    <tr>\n",
       "      <th>0</th>\n",
       "      <td>The food at snack is a selection of popular Gr...</td>\n",
       "      <td>1</td>\n",
       "    </tr>\n",
       "    <tr>\n",
       "      <th>1</th>\n",
       "      <td>This little place in Soho is wonderful. I had ...</td>\n",
       "      <td>1</td>\n",
       "    </tr>\n",
       "    <tr>\n",
       "      <th>2</th>\n",
       "      <td>ordered lunch for 15 from Snack last Friday. Ã...</td>\n",
       "      <td>1</td>\n",
       "    </tr>\n",
       "    <tr>\n",
       "      <th>3</th>\n",
       "      <td>This is a beautiful quaint little restaurant o...</td>\n",
       "      <td>1</td>\n",
       "    </tr>\n",
       "    <tr>\n",
       "      <th>4</th>\n",
       "      <td>Snack is great place for a Ã‚Â casual sit down...</td>\n",
       "      <td>1</td>\n",
       "    </tr>\n",
       "  </tbody>\n",
       "</table>\n",
       "</div>"
      ],
      "text/plain": [
       "                                              Review  Spam(1) and Not Spam(0)\n",
       "0  The food at snack is a selection of popular Gr...                        1\n",
       "1  This little place in Soho is wonderful. I had ...                        1\n",
       "2  ordered lunch for 15 from Snack last Friday. Ã...                        1\n",
       "3  This is a beautiful quaint little restaurant o...                        1\n",
       "4  Snack is great place for a Ã‚Â casual sit down...                        1"
      ]
     },
     "execution_count": 11,
     "metadata": {},
     "output_type": "execute_result"
    }
   ],
   "source": [
    "yelp_review_pd_clean.head()"
   ]
  },
  {
   "cell_type": "code",
   "execution_count": 12,
   "metadata": {},
   "outputs": [],
   "source": [
    "yelp_review_train, yelp_review_test = train_test_split(yelp_review_pd_clean,test_size=0.2)"
   ]
  },
  {
   "cell_type": "code",
   "execution_count": 13,
   "metadata": {},
   "outputs": [
    {
     "data": {
      "text/html": [
       "<div>\n",
       "<style scoped>\n",
       "    .dataframe tbody tr th:only-of-type {\n",
       "        vertical-align: middle;\n",
       "    }\n",
       "\n",
       "    .dataframe tbody tr th {\n",
       "        vertical-align: top;\n",
       "    }\n",
       "\n",
       "    .dataframe thead th {\n",
       "        text-align: right;\n",
       "    }\n",
       "</style>\n",
       "<table border=\"1\" class=\"dataframe\">\n",
       "  <thead>\n",
       "    <tr style=\"text-align: right;\">\n",
       "      <th></th>\n",
       "      <th>Review</th>\n",
       "      <th>Spam(1) and Not Spam(0)</th>\n",
       "    </tr>\n",
       "  </thead>\n",
       "  <tbody>\n",
       "    <tr>\n",
       "      <th>55797</th>\n",
       "      <td>My favorite brunch place in the Soho area. Sma...</td>\n",
       "      <td>0</td>\n",
       "    </tr>\n",
       "    <tr>\n",
       "      <th>282437</th>\n",
       "      <td>The best southern food in NYC, hands down. I a...</td>\n",
       "      <td>0</td>\n",
       "    </tr>\n",
       "    <tr>\n",
       "      <th>284378</th>\n",
       "      <td>After seeing all the great reviews about this ...</td>\n",
       "      <td>0</td>\n",
       "    </tr>\n",
       "    <tr>\n",
       "      <th>137417</th>\n",
       "      <td>If you go, sit in the back garden. It feels li...</td>\n",
       "      <td>0</td>\n",
       "    </tr>\n",
       "    <tr>\n",
       "      <th>269443</th>\n",
       "      <td>Quite possibly one of my newest favorite place...</td>\n",
       "      <td>0</td>\n",
       "    </tr>\n",
       "  </tbody>\n",
       "</table>\n",
       "</div>"
      ],
      "text/plain": [
       "                                                   Review  \\\n",
       "55797   My favorite brunch place in the Soho area. Sma...   \n",
       "282437  The best southern food in NYC, hands down. I a...   \n",
       "284378  After seeing all the great reviews about this ...   \n",
       "137417  If you go, sit in the back garden. It feels li...   \n",
       "269443  Quite possibly one of my newest favorite place...   \n",
       "\n",
       "        Spam(1) and Not Spam(0)  \n",
       "55797                         0  \n",
       "282437                        0  \n",
       "284378                        0  \n",
       "137417                        0  \n",
       "269443                        0  "
      ]
     },
     "execution_count": 13,
     "metadata": {},
     "output_type": "execute_result"
    }
   ],
   "source": [
    "yelp_review_train.head()"
   ]
  },
  {
   "cell_type": "code",
   "execution_count": 14,
   "metadata": {},
   "outputs": [
    {
     "data": {
      "text/plain": [
       "284168"
      ]
     },
     "execution_count": 14,
     "metadata": {},
     "output_type": "execute_result"
    }
   ],
   "source": [
    "len(yelp_review_train)"
   ]
  },
  {
   "cell_type": "code",
   "execution_count": 15,
   "metadata": {},
   "outputs": [
    {
     "data": {
      "text/plain": [
       "count     284168\n",
       "unique         2\n",
       "top            0\n",
       "freq      255278\n",
       "Name: Spam(1) and Not Spam(0), dtype: object"
      ]
     },
     "execution_count": 15,
     "metadata": {},
     "output_type": "execute_result"
    }
   ],
   "source": [
    "yelp_review_train['Spam(1) and Not Spam(0)'].astype('str').describe()"
   ]
  },
  {
   "cell_type": "code",
   "execution_count": 16,
   "metadata": {},
   "outputs": [],
   "source": [
    "yelp_review_train.to_csv('train.csv',header=None,index=False)"
   ]
  },
  {
   "cell_type": "code",
   "execution_count": 17,
   "metadata": {},
   "outputs": [
    {
     "name": "stdout",
     "output_type": "stream",
     "text": [
      "\"My favorite brunch place in the Soho area. Small locale so get there early and enjoy a nice cup of coffee while you wait. Their coffee is delicious, as well as the hot and toasty French bread which is honestly my favorite part of the dining experience. For main dishes, I recommend the Tuna Tartar, French Toast, Pancakes, and Creme Souffle dishes. Absolutely wonderful staff. Ã‚Â The chef was a little late in the morning, so they gave us free mimosas to pass the time. Definitely worth the price!\",0\n",
      "\"The best southern food in NYC, hands down. I always get the Reggie Harris. Ã‚Â It is crispy honey glazed chicken which reminds me of Korean fried style chicken but in a southern format. WUT!? YES. The mac-n-cheese is wonderful and so are the greens. Eat up!\",0\n",
      "\"After seeing all the great reviews about this place, I really have to say I kind of expected more. The setting is very low-key (that's an understatement), and I'd even say divey in nature. Then I thought, maybe this means the food will be that much better and more authentic (after all, sometimes the best places are those that focus more on the food and less on decor). Ã‚Â I got the beef noodle soup, and while it was generally satisfying and tasty, it was by no means anything to write home about. Ã‚Â I've heard that lamb noodle soup in flushing is better, and I've certainly had better ramen in the city. I realize these are totally different cuisines, but I'm speaking generally in terms of noodle soups. The noodles were very good, and tasted extremely fresh, as were the green vegetables in the soup. There was a consistency to the noodles which was truly different and more interesting than your typical chinese noodle soup dish. However, the broth itself was really uneventful, tasting watery and lacking any real flavor. The beef also was a bit tough and unimpressive. However, if you are in the mood for a hot, bowl of soup, with some good noodles, a bowl of noodles here will definitely satisfy that craving and its definitely worth a try if you haven't been. And the prices can't be beat. Honestly, 5-7 dollars for a huge meal is pretty good in my opinion.\",0\n",
      "\"If you go, sit in the back garden. It feels like you smoked something and now all the lanterns around you have supersized. First time I had pizza at a restaurant and I wasn't disappointed. It was a bit noisy but that's a sign that there a lot of people having a good time. I'm hoping to go again and try some of their traditional Italian entrees. Eat here and take a stroll through Washington Square Park.\",0\n",
      "\"Quite possibly one of my newest favorite place. We got there at 10:30 which is close to when they shut down for the night and our waitress (in the front bar room) couldn't have been nicer. PERFECTLY prepared shellfish, clams, lobster, with blue gloves to keep you clean!! First time I left a seafood joint not stinking like Fulton fish market! Will definitely be back. Staff couldn't have been nicer!\",0\n",
      "West Village always seems to have the best brunch places. This is a great place with a rustic sort of vibe. It's quite small so come early! Their brunch menu is amazing..it ranges from salads to crispy fried chix sandwiches. I got the avocado toast- it came with a multigrain toast and eggs with salad. I highly recommend this if you're looking for a lighter brunch option. All their ingredience are very fresh and tasty! I will defintely come here again!,0\n",
      "\"During my 4 day stay in New York, Mamoun's was the only place my friend and I went to twice! It was conveniently located a couple blocks away from where we were staying, and located close enough to walk to from all the bars in the area. It's a tiny little place to get a falafel sandwich for $2.50. Quick and yummy, there's nothing to complain about. By the way, don't be fooled by those bottles of red sauce on the tables! I drizzled some onto my falafel sandwich and it thoroughly set my mouth on fire.\",0\n",
      "\"How this place has less than 4 stars is beyond me. Ã‚Â Just went to brunch here on a beautiful day and sat outside in their awesome garden. Ã‚Â Waited a bit for a table, but the wait was worth sitting outside for! Ã‚Â Now for the food. Ã‚Â Oh mama. Ã‚Â This was some of the best brunch food I've had in the city. Ã‚Â We ordered the salmon benedict, duck hash confit, and the pancake with mac n cheese and lamb sausage as our free check in sides. Ã‚Â Everything was incredible, but the stars were the duck and the pancake, with the latter of the two being my recommendation if you had to choose one thing. Ã‚Â Ask for Ivy if you can! Ã‚Â She was an awesome server. Ã‚Â Very quick and helpful when it came to making some tough menu decisions. Ã‚Â I will definitely be back!!\",0\n",
      "\"Come here geared up with patience and half an appetite. Ã‚Â Tartine is one of those high commodity brunch places where no matter when, there will be a wait during the weekend. Ã‚Â We waited approximately 40 minutes in the chilly early spring weather for a seat of 3. Ã‚Â Tartine is obnoxiously tiny, if you move an inch you will be on a stranger. Ã‚Â  The service is fast, quick and rushed. Ã‚Â As soon as we sat, there already was water glasses filled and waiter hovering over our heads to decide on the food. Ã‚Â I ended up getting the House Gravlax Plate which was pretty much sliced smoked salmon with stale bread and burnt roasted potatoes; sounded intriguing in my 2 seconds I had to look at the menu. Ã‚Â All the dishes (gravlax, benedict and croquette) were fairly small. Ã‚Â The small dishes actually came into our favor since we wanted to grab dessert afterwards. Ã‚Â Caution! Do not order gravlax! Ã‚Â Even if brunch is on the cheaper end, it's not worth it. Tartine's brunches are all $15 for entree and OJ and coffee and tea are included. Ã‚Â Also, it's cash only! Ã‚Â There are plenty of wait worthy brunches in the city / west village, don't waste your time here waiting, being cramped in, and rushed out.\",0\n",
      "\"First time in this location - I've only ever gone to the one near Astor place. I'm deducting a star because the price keeps climbing up ($3 now). But the falafel is still delicious, the veggies fresh, and the hot sauce deadly. A little hole in the wall - pick up your food and go eat it at Washington Square Park!\",0\n"
     ]
    }
   ],
   "source": [
    "!head train.csv"
   ]
  },
  {
   "cell_type": "code",
   "execution_count": 18,
   "metadata": {},
   "outputs": [
    {
     "data": {
      "text/html": [
       "<div>\n",
       "<style scoped>\n",
       "    .dataframe tbody tr th:only-of-type {\n",
       "        vertical-align: middle;\n",
       "    }\n",
       "\n",
       "    .dataframe tbody tr th {\n",
       "        vertical-align: top;\n",
       "    }\n",
       "\n",
       "    .dataframe thead th {\n",
       "        text-align: right;\n",
       "    }\n",
       "</style>\n",
       "<table border=\"1\" class=\"dataframe\">\n",
       "  <thead>\n",
       "    <tr style=\"text-align: right;\">\n",
       "      <th></th>\n",
       "      <th>Review</th>\n",
       "      <th>Spam(1) and Not Spam(0)</th>\n",
       "    </tr>\n",
       "  </thead>\n",
       "  <tbody>\n",
       "    <tr>\n",
       "      <th>41675</th>\n",
       "      <td>The owner is a bee-yotch. Rudely informed me t...</td>\n",
       "      <td>0</td>\n",
       "    </tr>\n",
       "    <tr>\n",
       "      <th>218653</th>\n",
       "      <td>My other local bar in BK that isn't Zombie Hut...</td>\n",
       "      <td>0</td>\n",
       "    </tr>\n",
       "    <tr>\n",
       "      <th>308072</th>\n",
       "      <td>The tiny bathroom had trouble getting in out</td>\n",
       "      <td>0</td>\n",
       "    </tr>\n",
       "    <tr>\n",
       "      <th>309717</th>\n",
       "      <td>Rooms were just too small Once suitcase was i...</td>\n",
       "      <td>0</td>\n",
       "    </tr>\n",
       "    <tr>\n",
       "      <th>268181</th>\n",
       "      <td>Nice atmosphere and friendly staff. The food w...</td>\n",
       "      <td>1</td>\n",
       "    </tr>\n",
       "  </tbody>\n",
       "</table>\n",
       "</div>"
      ],
      "text/plain": [
       "                                                   Review  \\\n",
       "41675   The owner is a bee-yotch. Rudely informed me t...   \n",
       "218653  My other local bar in BK that isn't Zombie Hut...   \n",
       "308072      The tiny bathroom had trouble getting in out    \n",
       "309717   Rooms were just too small Once suitcase was i...   \n",
       "268181  Nice atmosphere and friendly staff. The food w...   \n",
       "\n",
       "        Spam(1) and Not Spam(0)  \n",
       "41675                         0  \n",
       "218653                        0  \n",
       "308072                        0  \n",
       "309717                        0  \n",
       "268181                        1  "
      ]
     },
     "execution_count": 18,
     "metadata": {},
     "output_type": "execute_result"
    }
   ],
   "source": [
    "yelp_review_test.head()"
   ]
  },
  {
   "cell_type": "code",
   "execution_count": 19,
   "metadata": {},
   "outputs": [
    {
     "data": {
      "text/plain": [
       "71042"
      ]
     },
     "execution_count": 19,
     "metadata": {},
     "output_type": "execute_result"
    }
   ],
   "source": [
    "len(yelp_review_test)"
   ]
  },
  {
   "cell_type": "code",
   "execution_count": 20,
   "metadata": {},
   "outputs": [
    {
     "data": {
      "text/plain": [
       "count     71042\n",
       "unique        2\n",
       "top           0\n",
       "freq      63799\n",
       "Name: Spam(1) and Not Spam(0), dtype: object"
      ]
     },
     "execution_count": 20,
     "metadata": {},
     "output_type": "execute_result"
    }
   ],
   "source": [
    "yelp_review_test['Spam(1) and Not Spam(0)'].astype('str').describe()"
   ]
  },
  {
   "cell_type": "code",
   "execution_count": 21,
   "metadata": {},
   "outputs": [],
   "source": [
    "yelp_review_test.to_csv('test.csv',header=None,index=False)"
   ]
  },
  {
   "cell_type": "code",
   "execution_count": 22,
   "metadata": {},
   "outputs": [],
   "source": [
    "index_to_label = {'1':'fake','0':'truth'}"
   ]
  },
  {
   "cell_type": "code",
   "execution_count": 23,
   "metadata": {},
   "outputs": [],
   "source": [
    "def transform_instance(row):\n",
    "    cur_row = []\n",
    "    label = \"__label__\" + index_to_label[row[1]]  #Prefix the index-ed label with __label__\n",
    "    cur_row.append(label)\n",
    "    cur_row.extend(nltk.word_tokenize(row[0].lower()))\n",
    "    return cur_row"
   ]
  },
  {
   "cell_type": "code",
   "execution_count": 24,
   "metadata": {},
   "outputs": [],
   "source": [
    "def preprocess(input_file, output_file, keep=1):\n",
    "    all_rows = []\n",
    "    with open(input_file, 'r') as csvinfile:\n",
    "        csv_reader = csv.reader(csvinfile, delimiter=',')\n",
    "        for row in csv_reader:\n",
    "            all_rows.append(row)\n",
    "    shuffle(all_rows)\n",
    "    all_rows = all_rows[:int(keep*len(all_rows))]\n",
    "    pool = Pool(processes=multiprocessing.cpu_count())\n",
    "    transformed_rows = pool.map(transform_instance, all_rows)\n",
    "    pool.close() \n",
    "    pool.join()\n",
    "    \n",
    "    with open(output_file, 'w') as csvoutfile:\n",
    "        csv_writer = csv.writer(csvoutfile, delimiter=' ', lineterminator='\\n')\n",
    "        csv_writer.writerows(transformed_rows)"
   ]
  },
  {
   "cell_type": "code",
   "execution_count": null,
   "metadata": {},
   "outputs": [],
   "source": [
    "%%time\n",
    "\n",
    "# Preparing the training dataset\n",
    "\n",
    "# Since preprocessing the whole dataset might take a couple of mintutes,\n",
    "# we keep 20% of the training dataset for this demo.\n",
    "# Set keep to 1 if you want to use the complete dataset\n",
    "preprocess('train.csv', 'yelp_review.train', keep=.5)\n",
    "        \n",
    "# Preparing the validation dataset        \n",
    "preprocess('test.csv', 'yelp_review.validation')"
   ]
  },
  {
   "cell_type": "code",
   "execution_count": 26,
   "metadata": {},
   "outputs": [
    {
     "name": "stdout",
     "output_type": "stream",
     "text": [
      "CPU times: user 332 ms, sys: 154 ms, total: 486 ms\n",
      "Wall time: 921 ms\n"
     ]
    }
   ],
   "source": [
    "%%time\n",
    "\n",
    "train_channel = prefix + '/train'\n",
    "validation_channel = prefix + '/validation'\n",
    "\n",
    "sess.upload_data(path='yelp_review.train', bucket=bucket, key_prefix=train_channel)\n",
    "sess.upload_data(path='yelp_review.validation', bucket=bucket, key_prefix=validation_channel)\n",
    "\n",
    "s3_train_data = 's3://{}/{}'.format(bucket, train_channel)\n",
    "s3_validation_data = 's3://{}/{}'.format(bucket, validation_channel)"
   ]
  },
  {
   "cell_type": "code",
   "execution_count": 27,
   "metadata": {},
   "outputs": [],
   "source": [
    "s3_output_location = 's3://{}/{}/output'.format(bucket, prefix)"
   ]
  },
  {
   "cell_type": "markdown",
   "metadata": {},
   "source": [
    "### Training"
   ]
  },
  {
   "cell_type": "code",
   "execution_count": 28,
   "metadata": {},
   "outputs": [],
   "source": [
    "region_name = boto3.Session().region_name"
   ]
  },
  {
   "cell_type": "code",
   "execution_count": 29,
   "metadata": {},
   "outputs": [
    {
     "name": "stderr",
     "output_type": "stream",
     "text": [
      "The method get_image_uri has been renamed in sagemaker>=2.\n",
      "See: https://sagemaker.readthedocs.io/en/stable/v2.html for details.\n",
      "Defaulting to the only supported framework/algorithm version: 1. Ignoring framework/algorithm version: latest.\n"
     ]
    },
    {
     "name": "stdout",
     "output_type": "stream",
     "text": [
      "Using SageMaker BlazingText container: 475088953585.dkr.ecr.ap-southeast-1.amazonaws.com/blazingtext:1 (ap-southeast-1)\n"
     ]
    }
   ],
   "source": [
    "container = sagemaker.amazon.amazon_estimator.get_image_uri(region_name, \"blazingtext\", \"latest\")\n",
    "print('Using SageMaker BlazingText container: {} ({})'.format(container, region_name))"
   ]
  },
  {
   "cell_type": "markdown",
   "metadata": {},
   "source": [
    "### Training the BlazingText model for supervised text classification"
   ]
  },
  {
   "cell_type": "code",
   "execution_count": 30,
   "metadata": {},
   "outputs": [],
   "source": [
    "bt_model = sagemaker.estimator.Estimator(container,\n",
    "                                         role, \n",
    "                                         instance_count=1, \n",
    "                                         instance_type='ml.c4.4xlarge',\n",
    "                                         volume_size = 30,\n",
    "                                         max_run = 360000,\n",
    "                                         input_mode= 'File',\n",
    "                                         output_path=s3_output_location,\n",
    "                                         hyperparameters = {\n",
    "                                           \"mode\":\"supervised\",\n",
    "                                           \"epochs\":1,\n",
    "                                            \"min_count\":2,\n",
    "                                            \"learning_rate\": 0.05,\n",
    "                                            \"vector_dim\":10,\n",
    "                                            \"early_stopping\":True,\n",
    "                                            \"patience\":4,\n",
    "                                            \"min_epochs\":5,\n",
    "                                            \"word_ngrams\":2\n",
    "                                         })"
   ]
  },
  {
   "cell_type": "code",
   "execution_count": 31,
   "metadata": {},
   "outputs": [],
   "source": [
    "train_data = sagemaker.inputs.TrainingInput(s3_train_data, distribution='FullyReplicated', \n",
    "                        content_type='text/plain', s3_data_type='S3Prefix')\n",
    "validation_data = sagemaker.inputs.TrainingInput(s3_validation_data, distribution='FullyReplicated', \n",
    "                             content_type='text/plain', s3_data_type='S3Prefix')\n",
    "data_channels = {'train': train_data, 'validation': validation_data}"
   ]
  },
  {
   "cell_type": "code",
   "execution_count": 32,
   "metadata": {},
   "outputs": [
    {
     "name": "stdout",
     "output_type": "stream",
     "text": [
      "2021-03-27 10:19:11 Starting - Starting the training job...\n",
      "2021-03-27 10:19:15 Starting - Launching requested ML instancesProfilerReport-1616840351: InProgress\n",
      "......\n",
      "2021-03-27 10:20:41 Starting - Preparing the instances for training......\n",
      "2021-03-27 10:21:35 Downloading - Downloading input data\n",
      "2021-03-27 10:21:35 Training - Downloading the training image..\u001b[34mArguments: train\u001b[0m\n",
      "\u001b[34m[03/27/2021 10:21:50 WARNING 139806527149440] Loggers have already been setup.\u001b[0m\n",
      "\u001b[34m[03/27/2021 10:21:50 WARNING 139806527149440] Loggers have already been setup.\u001b[0m\n",
      "\u001b[34m[03/27/2021 10:21:50 INFO 139806527149440] nvidia-smi took: 0.025188922882080078 secs to identify 0 gpus\u001b[0m\n",
      "\u001b[34m[03/27/2021 10:21:50 INFO 139806527149440] Running single machine CPU BlazingText training using supervised mode.\u001b[0m\n",
      "\u001b[34mNumber of CPU sockets found in instance is  1\u001b[0m\n",
      "\u001b[34m[03/27/2021 10:21:50 INFO 139806527149440] Processing /opt/ml/input/data/train/yelp_review.train . File size: 3.2117605209350586 MB\u001b[0m\n",
      "\u001b[34m[03/27/2021 10:21:50 INFO 139806527149440] Processing /opt/ml/input/data/validation/yelp_review.validation . File size: 40.13163757324219 MB\u001b[0m\n",
      "\u001b[34mRead 0M words\u001b[0m\n",
      "\u001b[34mNumber of words:  10486\u001b[0m\n",
      "\u001b[34mLoading validation data from /opt/ml/input/data/validation/yelp_review.validation\u001b[0m\n",
      "\u001b[34mLoaded validation data.\u001b[0m\n",
      "\u001b[34m-------------- End of epoch: 1\u001b[0m\n",
      "\u001b[34m##### Alpha: 0.0000  Progress: 100.00%  Million Words/sec: 0.79 #####\n",
      "\u001b[0m\n",
      "\u001b[34mTraining finished.\u001b[0m\n",
      "\u001b[34mAverage throughput in Million words/sec: 0.79\u001b[0m\n",
      "\u001b[34mTotal training time in seconds: 0.86\n",
      "\u001b[0m\n",
      "\u001b[34m#train_accuracy: 0.9016\u001b[0m\n",
      "\u001b[34mNumber of train examples: 5683\u001b[0m\n",
      "\u001b[34m#validation_accuracy: 0.898\u001b[0m\n",
      "\u001b[34mNumber of validation examples: 71042\u001b[0m\n",
      "\n",
      "2021-03-27 10:22:10 Uploading - Uploading generated training model\n",
      "2021-03-27 10:22:30 Completed - Training job completed\n",
      "Training seconds: 49\n",
      "Billable seconds: 49\n"
     ]
    }
   ],
   "source": [
    "bt_model.fit(inputs=data_channels, logs=True)"
   ]
  },
  {
   "cell_type": "markdown",
   "metadata": {},
   "source": [
    "### Hosting / Inference"
   ]
  },
  {
   "cell_type": "code",
   "execution_count": 45,
   "metadata": {},
   "outputs": [
    {
     "name": "stdout",
     "output_type": "stream",
     "text": [
      "-------------!"
     ]
    }
   ],
   "source": [
    "from sagemaker.serializers import JSONSerializer\n",
    "\n",
    "text_classifier = bt_model.deploy(\n",
    "    initial_instance_count = 1,\n",
    "    instance_type = 'ml.m4.xlarge',\n",
    "    endpoint_name = 'blazingtext-fake-review',\n",
    "    serializer = JSONSerializer()\n",
    ")"
   ]
  },
  {
   "cell_type": "code",
   "execution_count": 36,
   "metadata": {},
   "outputs": [
    {
     "name": "stdout",
     "output_type": "stream",
     "text": [
      "[\n",
      "  {\n",
      "    \"label\": [\n",
      "      \"__label__truth\"\n",
      "    ],\n",
      "    \"prob\": [\n",
      "      0.7097575068473816\n",
      "    ]\n",
      "  }\n",
      "]\n"
     ]
    }
   ],
   "source": [
    "sentences = [\"Will not return! Food: nothing impressive, no matter for a single dish or the whole experience. No wonder it\\'s downgraded from 2 star to 1 star by Michelin, I think Bouley lacks that \\\"OMG\\\" dish and failed to create an experience. Service is the worst among top restaurants, well, since now it\\'s in the sea of 1 stars, maybe my comparison of it to Le Bernardin is not fair. The servers do not dress well, do not have the professional attitude, and are not well organized, they are not masters of their work. Compare to being a princess in Le Bernardin or Jean-Georges, you feel like, well, a normal person. OMG, the restroom is so odd and cold. There is no way you can power yourself using those mirrors and under that lighting. Go check it out yourself. My first time and last time there.\"]\n",
    "\n",
    "# using the same nltk tokenizer that we used during data preparation for training\n",
    "tokenized_sentences = [' '.join(nltk.word_tokenize(sent)) for sent in sentences]\n",
    "\n",
    "payload = {\"instances\" : tokenized_sentences}\n",
    "\n",
    "response = text_classifier.predict(payload)\n",
    "\n",
    "predictions = json.loads(response)\n",
    "print(json.dumps(predictions, indent=2))"
   ]
  },
  {
   "cell_type": "code",
   "execution_count": 37,
   "metadata": {},
   "outputs": [
    {
     "name": "stdout",
     "output_type": "stream",
     "text": [
      "[\n",
      "  {\n",
      "    \"label\": [\n",
      "      \"__label__truth\",\n",
      "      \"__label__fake\"\n",
      "    ],\n",
      "    \"prob\": [\n",
      "      0.7097575068473816,\n",
      "      0.29026246070861816\n",
      "    ]\n",
      "  }\n",
      "]\n"
     ]
    }
   ],
   "source": [
    "payload = {\"instances\" : tokenized_sentences,\n",
    "          \"configuration\": {\"k\": 2}}\n",
    "\n",
    "response = text_classifier.predict(payload)\n",
    "\n",
    "predictions = json.loads(response)\n",
    "print(json.dumps(predictions, indent=2))"
   ]
  },
  {
   "cell_type": "code",
   "execution_count": 38,
   "metadata": {},
   "outputs": [
    {
     "name": "stderr",
     "output_type": "stream",
     "text": [
      "The endpoint attribute has been renamed in sagemaker>=2.\n",
      "See: https://sagemaker.readthedocs.io/en/stable/v2.html for details.\n"
     ]
    }
   ],
   "source": [
    "#sess.delete_endpoint(text_classifier.endpoint)"
   ]
  },
  {
   "cell_type": "code",
   "execution_count": 39,
   "metadata": {},
   "outputs": [
    {
     "data": {
      "text/plain": [
       "<sagemaker.predictor.Predictor at 0x7f56068cbf10>"
      ]
     },
     "execution_count": 39,
     "metadata": {},
     "output_type": "execute_result"
    }
   ],
   "source": [
    "text_classifier"
   ]
  },
  {
   "cell_type": "code",
   "execution_count": 40,
   "metadata": {},
   "outputs": [
    {
     "data": {
      "text/plain": [
       "[\"Will not return ! Food : nothing impressive , no matter for a single dish or the whole experience . No wonder it 's downgraded from 2 star to 1 star by Michelin , I think Bouley lacks that `` OMG '' dish and failed to create an experience . Service is the worst among top restaurants , well , since now it 's in the sea of 1 stars , maybe my comparison of it to Le Bernardin is not fair . The servers do not dress well , do not have the professional attitude , and are not well organized , they are not masters of their work . Compare to being a princess in Le Bernardin or Jean-Georges , you feel like , well , a normal person . OMG , the restroom is so odd and cold . There is no way you can power yourself using those mirrors and under that lighting . Go check it out yourself . My first time and last time there .\"]"
      ]
     },
     "execution_count": 40,
     "metadata": {},
     "output_type": "execute_result"
    }
   ],
   "source": [
    "tokenized_sentences"
   ]
  },
  {
   "cell_type": "code",
   "execution_count": 41,
   "metadata": {},
   "outputs": [],
   "source": [
    "sentences[0].split(\" \")"
   ]
  },
  {
   "cell_type": "code",
   "execution_count": 42,
   "metadata": {},
   "outputs": [
    {
     "data": {
      "text/plain": [
       "\u001b[0;31mSignature:\u001b[0m\n",
       "\u001b[0mbt_model\u001b[0m\u001b[0;34m.\u001b[0m\u001b[0mdeploy\u001b[0m\u001b[0;34m(\u001b[0m\u001b[0;34m\u001b[0m\n",
       "\u001b[0;34m\u001b[0m    \u001b[0minitial_instance_count\u001b[0m\u001b[0;34m,\u001b[0m\u001b[0;34m\u001b[0m\n",
       "\u001b[0;34m\u001b[0m    \u001b[0minstance_type\u001b[0m\u001b[0;34m,\u001b[0m\u001b[0;34m\u001b[0m\n",
       "\u001b[0;34m\u001b[0m    \u001b[0mserializer\u001b[0m\u001b[0;34m=\u001b[0m\u001b[0;32mNone\u001b[0m\u001b[0;34m,\u001b[0m\u001b[0;34m\u001b[0m\n",
       "\u001b[0;34m\u001b[0m    \u001b[0mdeserializer\u001b[0m\u001b[0;34m=\u001b[0m\u001b[0;32mNone\u001b[0m\u001b[0;34m,\u001b[0m\u001b[0;34m\u001b[0m\n",
       "\u001b[0;34m\u001b[0m    \u001b[0maccelerator_type\u001b[0m\u001b[0;34m=\u001b[0m\u001b[0;32mNone\u001b[0m\u001b[0;34m,\u001b[0m\u001b[0;34m\u001b[0m\n",
       "\u001b[0;34m\u001b[0m    \u001b[0mendpoint_name\u001b[0m\u001b[0;34m=\u001b[0m\u001b[0;32mNone\u001b[0m\u001b[0;34m,\u001b[0m\u001b[0;34m\u001b[0m\n",
       "\u001b[0;34m\u001b[0m    \u001b[0muse_compiled_model\u001b[0m\u001b[0;34m=\u001b[0m\u001b[0;32mFalse\u001b[0m\u001b[0;34m,\u001b[0m\u001b[0;34m\u001b[0m\n",
       "\u001b[0;34m\u001b[0m    \u001b[0mwait\u001b[0m\u001b[0;34m=\u001b[0m\u001b[0;32mTrue\u001b[0m\u001b[0;34m,\u001b[0m\u001b[0;34m\u001b[0m\n",
       "\u001b[0;34m\u001b[0m    \u001b[0mmodel_name\u001b[0m\u001b[0;34m=\u001b[0m\u001b[0;32mNone\u001b[0m\u001b[0;34m,\u001b[0m\u001b[0;34m\u001b[0m\n",
       "\u001b[0;34m\u001b[0m    \u001b[0mkms_key\u001b[0m\u001b[0;34m=\u001b[0m\u001b[0;32mNone\u001b[0m\u001b[0;34m,\u001b[0m\u001b[0;34m\u001b[0m\n",
       "\u001b[0;34m\u001b[0m    \u001b[0mdata_capture_config\u001b[0m\u001b[0;34m=\u001b[0m\u001b[0;32mNone\u001b[0m\u001b[0;34m,\u001b[0m\u001b[0;34m\u001b[0m\n",
       "\u001b[0;34m\u001b[0m    \u001b[0mtags\u001b[0m\u001b[0;34m=\u001b[0m\u001b[0;32mNone\u001b[0m\u001b[0;34m,\u001b[0m\u001b[0;34m\u001b[0m\n",
       "\u001b[0;34m\u001b[0m    \u001b[0;34m**\u001b[0m\u001b[0mkwargs\u001b[0m\u001b[0;34m,\u001b[0m\u001b[0;34m\u001b[0m\n",
       "\u001b[0;34m\u001b[0m\u001b[0;34m)\u001b[0m\u001b[0;34m\u001b[0m\u001b[0;34m\u001b[0m\u001b[0m\n",
       "\u001b[0;31mDocstring:\u001b[0m\n",
       "Deploy the trained model to an Amazon SageMaker endpoint.\n",
       "\n",
       " And then return ``sagemaker.Predictor`` object.\n",
       "\n",
       "More information:\n",
       "http://docs.aws.amazon.com/sagemaker/latest/dg/how-it-works-training.html\n",
       "\n",
       "Args:\n",
       "    initial_instance_count (int): Minimum number of EC2 instances to\n",
       "        deploy to an endpoint for prediction.\n",
       "    instance_type (str): Type of EC2 instance to deploy to an endpoint\n",
       "        for prediction, for example, 'ml.c4.xlarge'.\n",
       "    serializer (:class:`~sagemaker.serializers.BaseSerializer`): A\n",
       "        serializer object, used to encode data for an inference endpoint\n",
       "        (default: None). If ``serializer`` is not None, then\n",
       "        ``serializer`` will override the default serializer. The\n",
       "        default serializer is set by the ``predictor_cls``.\n",
       "    deserializer (:class:`~sagemaker.deserializers.BaseDeserializer`): A\n",
       "        deserializer object, used to decode data from an inference\n",
       "        endpoint (default: None). If ``deserializer`` is not None, then\n",
       "        ``deserializer`` will override the default deserializer. The\n",
       "        default deserializer is set by the ``predictor_cls``.\n",
       "    accelerator_type (str): Type of Elastic Inference accelerator to\n",
       "        attach to an endpoint for model loading and inference, for\n",
       "        example, 'ml.eia1.medium'. If not specified, no Elastic\n",
       "        Inference accelerator will be attached to the endpoint. For more\n",
       "        information:\n",
       "        https://docs.aws.amazon.com/sagemaker/latest/dg/ei.html\n",
       "    endpoint_name (str): Name to use for creating an Amazon SageMaker\n",
       "        endpoint. If not specified, the name of the training job is\n",
       "        used.\n",
       "    use_compiled_model (bool): Flag to select whether to use compiled\n",
       "        (optimized) model. Default: False.\n",
       "    wait (bool): Whether the call should wait until the deployment of\n",
       "        model completes (default: True).\n",
       "    model_name (str): Name to use for creating an Amazon SageMaker\n",
       "        model. If not specified, the estimator generates a default job name\n",
       "        based on the training image name and current timestamp.\n",
       "    kms_key (str): The ARN of the KMS key that is used to encrypt the\n",
       "        data on the storage volume attached to the instance hosting the\n",
       "        endpoint.\n",
       "    data_capture_config (sagemaker.model_monitor.DataCaptureConfig): Specifies\n",
       "        configuration related to Endpoint data capture for use with\n",
       "        Amazon SageMaker Model Monitoring. Default: None.\n",
       "    tags(List[dict[str, str]]): Optional. The list of tags to attach to this specific\n",
       "        endpoint. Example:\n",
       "        >>> tags = [{'Key': 'tagname', 'Value': 'tagvalue'}]\n",
       "        For more information about tags, see\n",
       "        https://boto3.amazonaws.com/v1/documentation                /api/latest/reference/services/sagemaker.html#SageMaker.Client.add_tags\n",
       "    **kwargs: Passed to invocation of ``create_model()``.\n",
       "        Implementations may customize ``create_model()`` to accept\n",
       "        ``**kwargs`` to customize model creation during deploy.\n",
       "        For more, see the implementation docs.\n",
       "\n",
       "Returns:\n",
       "    sagemaker.predictor.Predictor: A predictor that provides a ``predict()`` method,\n",
       "        which can be used to send requests to the Amazon SageMaker\n",
       "        endpoint and obtain inferences.\n",
       "\u001b[0;31mFile:\u001b[0m      /opt/conda/lib/python3.7/site-packages/sagemaker/estimator.py\n",
       "\u001b[0;31mType:\u001b[0m      method\n"
      ]
     },
     "metadata": {},
     "output_type": "display_data"
    }
   ],
   "source": [
    "bt_model.deploy?"
   ]
  },
  {
   "cell_type": "code",
   "execution_count": null,
   "metadata": {},
   "outputs": [],
   "source": [
    "yelp_review_test.head()"
   ]
  },
  {
   "cell_type": "code",
   "execution_count": 47,
   "metadata": {},
   "outputs": [
    {
     "data": {
      "text/plain": [
       "\"Nice atmosphere and friendly staff. The food was good, not the best burger I've ever had but good nonetheless. Ã‚Â\\xa0Prices are very reasonable. Ã‚Â\\xa0I love the selection on the brunch menu. Ã‚Â\\xa0We'll be going back.\""
      ]
     },
     "execution_count": 47,
     "metadata": {},
     "output_type": "execute_result"
    }
   ],
   "source": [
    "yelp_review_test.loc[268181]['Review']"
   ]
  },
  {
   "cell_type": "code",
   "execution_count": 48,
   "metadata": {},
   "outputs": [
    {
     "data": {
      "text/plain": [
       "' Rooms were just too small Once suitcase was in couldn t move anywhere in the room Bathroom was separated from the shower and overall size was just not practical'"
      ]
     },
     "execution_count": 48,
     "metadata": {},
     "output_type": "execute_result"
    }
   ],
   "source": [
    "yelp_review_test.loc[309717]['Review']"
   ]
  },
  {
   "cell_type": "code",
   "execution_count": null,
   "metadata": {},
   "outputs": [],
   "source": [
    "sentences = [\"Nice atmosphere and friendly staff. The food was good, not the best burger I've ever had but good nonetheless. Prices are very reasonable. I love the selection on the brunch menu. We'll be going back.\"]\n",
    "\n",
    "# using the same nltk tokenizer that we used during data preparation for training\n",
    "tokenized_sentences = [' '.join(nltk.word_tokenize(sent)) for sent in sentences]\n",
    "\n",
    "payload = {\"instances\" : tokenized_sentences}\n",
    "\n",
    "response = text_classifier.predict(payload)\n",
    "\n",
    "predictions = json.loads(response)\n",
    "print(json.dumps(predictions, indent=2))"
   ]
  },
  {
   "cell_type": "code",
   "execution_count": null,
   "metadata": {},
   "outputs": [],
   "source": []
  }
 ],
 "metadata": {
  "kernelspec": {
   "display_name": "Python 3 (Data Science)",
   "language": "python",
   "name": "python3__SAGEMAKER_INTERNAL__arn:aws:sagemaker:ap-southeast-1:492261229750:image/datascience-1.0"
  },
  "language_info": {
   "codemirror_mode": {
    "name": "ipython",
    "version": 3
   },
   "file_extension": ".py",
   "mimetype": "text/x-python",
   "name": "python",
   "nbconvert_exporter": "python",
   "pygments_lexer": "ipython3",
   "version": "3.7.10"
  }
 },
 "nbformat": 4,
 "nbformat_minor": 4
}
